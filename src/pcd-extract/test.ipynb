{
 "cells": [
  {
   "cell_type": "code",
   "execution_count": 13,
   "metadata": {},
   "outputs": [],
   "source": [
    "label_to_points = new_df.set_index('label').to_dict()['points']\n",
    "\n",
    "point_to_label = {}\n",
    "for k, v in label_to_points.items():\n",
    "    for aaa in v:\n",
    "        aaa = [round(i, 2) for i in aaa]\n",
    "        new_key = '_'.join(list(map(str, aaa)))\n",
    "        point_to_label[new_key] = k"
   ]
  },
  {
   "cell_type": "code",
   "execution_count": 16,
   "metadata": {},
   "outputs": [],
   "source": [
    "point_to_search = '-4.52_-6.91_3.89'\n",
    "cluster_of_the_said_point = point_to_label[point_to_search]\n",
    "other_points_of_same_cluster = label_to_points[cluster_of_the_said_point]"
   ]
  },
  {
   "cell_type": "code",
   "execution_count": 12,
   "metadata": {},
   "outputs": [],
   "source": [
    "my_points = np.asarray(final_pointcloud.points).tolist()\n",
    "\n",
    "import pandas as pd\n",
    "df = pd.DataFrame(list(zip(my_points, labels.tolist())), columns=['points', 'label'])\n",
    "\n",
    "new_df = df.groupby('label').agg(list).reset_index()[['label', 'points']]"
   ]
  },
  {
   "cell_type": "code",
   "execution_count": 4,
   "metadata": {},
   "outputs": [],
   "source": [
    "import numpy as np\n",
    "import matplotlib.pyplot as plt\n",
    "import open3d as o3d"
   ]
  },
  {
   "cell_type": "code",
   "execution_count": 7,
   "metadata": {},
   "outputs": [
    {
     "name": "stdout",
     "output_type": "stream",
     "text": [
      "PointCloud with 5347680 points.\n",
      "[[-4.52022076 -6.90660381  3.89185667]\n",
      " [-4.51259804 -6.90450573  3.88614941]\n",
      " [-3.10250163 -6.91176987  3.94606209]\n",
      " ...\n",
      " [ 4.98769617 -3.68095613  4.88237619]\n",
      " [-0.10061067 -4.45317745  4.75001812]\n",
      " [-0.40276062 -4.42553425  4.62305737]]\n"
     ]
    }
   ],
   "source": [
    "pcd = o3d.io.read_point_cloud('fused.ply')\n",
    "# o3d.visualization.draw_geometries([pcd])\n",
    "print(pcd)\n",
    "print(np.asarray(pcd.points))"
   ]
  },
  {
   "cell_type": "code",
   "execution_count": null,
   "metadata": {},
   "outputs": [],
   "source": [
    "pcd = o3d.io.read_point_cloud('fused.ply')\n",
    "# o3d.visualization.draw_geometries([pcd])\n",
    "print(pcd)\n",
    "print(np.asarray(pcd.points))"
   ]
  },
  {
   "cell_type": "code",
   "execution_count": 8,
   "metadata": {},
   "outputs": [],
   "source": [
    "Zmin = 3.89\n",
    "Zmax = 4.2\n",
    "d = 0.1\n",
    "final_pointcloud_array = []\n",
    "pointcloud_as_array = np.asarray(pcd.points)\n",
    "\n",
    "for point in pointcloud_as_array:\n",
    "    if  Zmin - d < point[2] < Zmax + d:\n",
    "        final_pointcloud_array.append(point)\n",
    "final_pointcloud = o3d.geometry.PointCloud()\n",
    "final_pointcloud.points = o3d.utility.Vector3dVector(final_pointcloud_array)\n",
    "# o3d.visualization.draw_geometries([final_pointcloud])"
   ]
  },
  {
   "cell_type": "code",
   "execution_count": 11,
   "metadata": {},
   "outputs": [
    {
     "name": "stdout",
     "output_type": "stream",
     "text": [
      "[Open3D DEBUG] Precompute neighbors.\n",
      "Precompute neighbors.[================>                       ] 37%                                    ] 5%\n",
      "[Open3D DEBUG] Compute Clusters\n",
      "Precompute neighbors.[========================================] 100%293=======================>        ] 77%\n",
      "Clustering[======>                                 ] 15%\n",
      "Clustering[=======================================>] 97%          ] 60%\r"
     ]
    }
   ],
   "source": [
    "with o3d.utility.VerbosityContextManager(\n",
    "    o3d.utility.VerbosityLevel.Debug) as cm:\n",
    "    labels = np.array(\n",
    "        final_pointcloud.cluster_dbscan(eps=0.05, min_points=4, print_progress=True))"
   ]
  },
  {
   "cell_type": "code",
   "execution_count": 10,
   "metadata": {},
   "outputs": [
    {
     "ename": "NameError",
     "evalue": "name 'labels' is not defined",
     "output_type": "error",
     "traceback": [
      "\u001b[0;31m---------------------------------------------------------------------------\u001b[0m",
      "\u001b[0;31mNameError\u001b[0m                                 Traceback (most recent call last)",
      "\u001b[1;32m/Users/shreyashsinha/Desktop/cpdm-test/test.ipynb Cell 8\u001b[0m in \u001b[0;36m<cell line: 1>\u001b[0;34m()\u001b[0m\n\u001b[0;32m----> <a href='vscode-notebook-cell:/Users/shreyashsinha/Desktop/cpdm-test/test.ipynb#X26sZmlsZQ%3D%3D?line=0'>1</a>\u001b[0m max_label \u001b[39m=\u001b[39m labels\u001b[39m.\u001b[39mmax()\n\u001b[1;32m      <a href='vscode-notebook-cell:/Users/shreyashsinha/Desktop/cpdm-test/test.ipynb#X26sZmlsZQ%3D%3D?line=1'>2</a>\u001b[0m \u001b[39mprint\u001b[39m(\u001b[39mf\u001b[39m\u001b[39m\"\u001b[39m\u001b[39mpoint cloud has \u001b[39m\u001b[39m{\u001b[39;00mmax_label \u001b[39m+\u001b[39m \u001b[39m1\u001b[39m\u001b[39m}\u001b[39;00m\u001b[39m clusters\u001b[39m\u001b[39m\"\u001b[39m)\n\u001b[1;32m      <a href='vscode-notebook-cell:/Users/shreyashsinha/Desktop/cpdm-test/test.ipynb#X26sZmlsZQ%3D%3D?line=2'>3</a>\u001b[0m colors \u001b[39m=\u001b[39m plt\u001b[39m.\u001b[39mget_cmap(\u001b[39m\"\u001b[39m\u001b[39mtab20\u001b[39m\u001b[39m\"\u001b[39m)(labels \u001b[39m/\u001b[39m (max_label \u001b[39mif\u001b[39;00m max_label \u001b[39m>\u001b[39m \u001b[39m0\u001b[39m \u001b[39melse\u001b[39;00m \u001b[39m1\u001b[39m))\n",
      "\u001b[0;31mNameError\u001b[0m: name 'labels' is not defined"
     ]
    }
   ],
   "source": [
    "max_label = labels.max()\n",
    "print(f\"point cloud has {max_label + 1} clusters\")\n",
    "colors = plt.get_cmap(\"tab20\")(labels / (max_label if max_label > 0 else 1))\n",
    "colors[labels < 0] = 0\n",
    "final_pointcloud.colors = o3d.utility.Vector3dVector(colors[:, :3])\n",
    "# o3d.visualization.draw_geometries([final_pointcloud], mesh_show_wireframe=True, point_show_normal=True)\n",
    "print(labels.shape)"
   ]
  },
  {
   "cell_type": "code",
   "execution_count": null,
   "metadata": {},
   "outputs": [],
   "source": []
  },
  {
   "cell_type": "code",
   "execution_count": 18,
   "metadata": {},
   "outputs": [
    {
     "ename": "IndentationError",
     "evalue": "expected an indented block (3733856709.py, line 4)",
     "output_type": "error",
     "traceback": [
      "\u001b[0;36m  Input \u001b[0;32mIn [18]\u001b[0;36m\u001b[0m\n\u001b[0;31m    viewer.add_geometry(geometry)\u001b[0m\n\u001b[0m    ^\u001b[0m\n\u001b[0;31mIndentationError\u001b[0m\u001b[0;31m:\u001b[0m expected an indented block\n"
     ]
    }
   ],
   "source": [
    "viewer = o3d.visualization.Visualizer()\n",
    "viewer.create_window()\n",
    "for geometry in geometries:\n",
    "viewer.add_geometry(geometry)\n",
    "opt = viewer.get_render_option()\n",
    "opt.show_coordinate_frame = True\n",
    "opt.background_color = np.asarray([0.5, 0.5, 0.5])\n",
    "viewer.run()\n",
    "viewer.destroy_window()"
   ]
  },
  {
   "cell_type": "code",
   "execution_count": null,
   "metadata": {},
   "outputs": [],
   "source": []
  },
  {
   "cell_type": "code",
   "execution_count": 17,
   "metadata": {},
   "outputs": [
    {
     "name": "stdout",
     "output_type": "stream",
     "text": [
      "50\n"
     ]
    }
   ],
   "source": [
    "point_to_search = '1.31_3.98_4.28'\n",
    "cluster_of_the_said_point = point_to_label[point_to_search]\n",
    "other_points_of_same_cluster = label_to_points[cluster_of_the_said_point]\n",
    "print(cluster_of_the_said_point)"
   ]
  }
 ],
 "metadata": {
  "kernelspec": {
   "display_name": "base",
   "language": "python",
   "name": "python3"
  },
  "language_info": {
   "codemirror_mode": {
    "name": "ipython",
    "version": 3
   },
   "file_extension": ".py",
   "mimetype": "text/x-python",
   "name": "python",
   "nbconvert_exporter": "python",
   "pygments_lexer": "ipython3",
   "version": "3.9.12"
  },
  "orig_nbformat": 4
 },
 "nbformat": 4,
 "nbformat_minor": 2
}
