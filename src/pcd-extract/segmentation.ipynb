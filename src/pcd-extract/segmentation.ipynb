{
 "cells": [
  {
   "cell_type": "code",
   "execution_count": 1,
   "metadata": {},
   "outputs": [],
   "source": [
    "import numpy as np\n",
    "import matplotlib.pyplot as plt\n",
    "import open3d as o3d\n",
    "import pandas as pd"
   ]
  },
  {
   "cell_type": "code",
   "execution_count": 2,
   "metadata": {},
   "outputs": [
    {
     "name": "stdout",
     "output_type": "stream",
     "text": [
      "PointCloud with 5347680 points.\n"
     ]
    }
   ],
   "source": [
    "pcd = o3d.io.read_point_cloud('fused.ply')\n",
    "# o3d.visualization.draw_geometries([pcd])\n",
    "print(pcd)\n",
    "arr = np.asarray(pcd.points)\n",
    "z_min = arr[:,2].min()\n",
    "z_max = arr[:,2].max()"
   ]
  },
  {
   "cell_type": "code",
   "execution_count": 3,
   "metadata": {},
   "outputs": [],
   "source": [
    "Zmin = 3.89\n",
    "Zmax = 4.2\n",
    "d = 0.1\n",
    "final_pointcloud_array = []\n",
    "pointcloud_as_array = np.asarray(pcd.points)\n",
    "\n",
    "for point in pointcloud_as_array:\n",
    "    if  Zmin - d < point[2] < Zmax + d:\n",
    "        final_pointcloud_array.append(point)\n",
    "final_pointcloud = o3d.geometry.PointCloud()\n",
    "final_pointcloud.points = o3d.utility.Vector3dVector(final_pointcloud_array)\n",
    "# o3d.visualization.draw_geometries([final_pointcloud])\n"
   ]
  },
  {
   "cell_type": "code",
   "execution_count": 28,
   "metadata": {},
   "outputs": [
    {
     "name": "stdout",
     "output_type": "stream",
     "text": [
      "\u001b[1;33m[Open3D WARNING] GLFW Error: Cocoa: Failed to find service port for display\u001b[0;m\n",
      "\u001b[1;33m[Open3D WARNING] GLFW Error: Cocoa: Failed to find service port for display\u001b[0;m\n",
      "\u001b[1;33m[Open3D WARNING] GLFW Error: Cocoa: Failed to find service port for display\u001b[0;m\n"
     ]
    },
    {
     "ename": "",
     "evalue": "",
     "output_type": "error",
     "traceback": [
      "\u001b[1;31mThe Kernel crashed while executing code in the the current cell or a previous cell. Please review the code in the cell(s) to identify a possible cause of the failure. Click <a href='https://aka.ms/vscodeJupyterKernelCrash'>here</a> for more info. View Jupyter <a href='command:jupyter.viewOutput'>log</a> for further details."
     ]
    }
   ],
   "source": [
    "# viewer = o3d.visualization.Visualizer()\n",
    "# viewer.create_window()\n",
    "\n",
    "# for geometry in [final_pointcloud]:\n",
    "#     viewer.add_geometry(geometry)\n",
    "\n",
    "# opt = viewer.get_render_option()\n",
    "# opt.show_coordinate_frame = True\n",
    "# opt.background_color = np.asarray([0.5, 0.5, 0.5])\n",
    "\n",
    "# viewer.run()\n",
    "# viewer.destroy_window()"
   ]
  },
  {
   "cell_type": "code",
   "execution_count": 4,
   "metadata": {},
   "outputs": [
    {
     "name": "stdout",
     "output_type": "stream",
     "text": [
      "[Open3D DEBUG] Precompute neighbors.\n",
      "Precompute neighbors.[=>                                      ] 2%\r",
      "[Open3D DEBUG] Done Precompute neighbors.\n",
      "[Open3D DEBUG] Compute Clusters\n",
      "[Open3D DEBUG] Done Compute Clusters: 293\n",
      "Precompute neighbors.[==>                                     ] 5%\r",
      "Precompute neighbors.[===>                                    ] 7%\r",
      "Precompute neighbors.[====>                                   ] 10%\r",
      "Precompute neighbors.[=====>                                  ] 12%\r",
      "Precompute neighbors.[======>                                 ] 15%\r",
      "Precompute neighbors.[=======>                                ] 17%\r",
      "Precompute neighbors.[========>                               ] 20%\r",
      "Precompute neighbors.[=========>                              ] 22%\r",
      "Precompute neighbors.[==========>                             ] 25%\r",
      "Precompute neighbors.[===========>                            ] 27%\r",
      "Precompute neighbors.[============>                           ] 30%\r",
      "Precompute neighbors.[=============>                          ] 32%\r",
      "Precompute neighbors.[==============>                         ] 35%\r",
      "Precompute neighbors.[===============>                        ] 37%\r",
      "Precompute neighbors.[================>                       ] 40%\r",
      "Precompute neighbors.[=================>                      ] 42%\r",
      "Precompute neighbors.[==================>                     ] 45%\r",
      "Precompute neighbors.[===================>                    ] 47%\r",
      "Precompute neighbors.[====================>                   ] 50%\r",
      "Precompute neighbors.[=====================>                  ] 52%\r",
      "Precompute neighbors.[======================>                 ] 55%\r",
      "Precompute neighbors.[=======================>                ] 57%\r",
      "Precompute neighbors.[========================>               ] 60%\r",
      "Precompute neighbors.[=========================>              ] 62%\r",
      "Precompute neighbors.[==========================>             ] 65%\r",
      "Precompute neighbors.[===========================>            ] 67%\r",
      "Precompute neighbors.[============================>           ] 70%\r",
      "Precompute neighbors.[=============================>          ] 72%\r",
      "Precompute neighbors.[==============================>         ] 75%\r",
      "Precompute neighbors.[===============================>        ] 77%\r",
      "Precompute neighbors.[================================>       ] 80%\r",
      "Precompute neighbors.[=================================>      ] 82%\r",
      "Precompute neighbors.[==================================>     ] 85%\r",
      "Precompute neighbors.[===================================>    ] 87%\r",
      "Precompute neighbors.[====================================>   ] 90%\r",
      "Precompute neighbors.[=====================================>  ] 92%\r",
      "Precompute neighbors.[======================================> ] 95%\r",
      "Precompute neighbors.[=======================================>] 97%\r",
      "Precompute neighbors.[========================================] 100%\n",
      "Clustering[=>                                      ] 2%\r",
      "Clustering[==>                                     ] 5%\r",
      "Clustering[===>                                    ] 7%\r",
      "Clustering[====>                                   ] 10%\r",
      "Clustering[=====>                                  ] 12%\r",
      "Clustering[======>                                 ] 15%\r",
      "Clustering[=======>                                ] 17%\r",
      "Clustering[========>                               ] 20%\r",
      "Clustering[=========>                              ] 22%\r",
      "Clustering[==========>                             ] 25%\r",
      "Clustering[===========>                            ] 27%\r",
      "Clustering[============>                           ] 30%\r",
      "Clustering[=============>                          ] 32%\r",
      "Clustering[==============>                         ] 35%\r",
      "Clustering[===============>                        ] 37%\r",
      "Clustering[================>                       ] 40%\r",
      "Clustering[=================>                      ] 42%\r",
      "Clustering[==================>                     ] 45%\r",
      "Clustering[===================>                    ] 47%\r",
      "Clustering[====================>                   ] 50%\r",
      "Clustering[=====================>                  ] 52%\r",
      "Clustering[======================>                 ] 55%\r",
      "Clustering[=======================>                ] 57%\r",
      "Clustering[========================>               ] 60%\r",
      "Clustering[=========================>              ] 62%\r",
      "Clustering[==========================>             ] 65%\r",
      "Clustering[===========================>            ] 67%\r",
      "Clustering[============================>           ] 70%\r",
      "Clustering[=============================>          ] 72%\r",
      "Clustering[==============================>         ] 75%\r",
      "Clustering[===============================>        ] 77%\r",
      "Clustering[================================>       ] 80%\r",
      "Clustering[=================================>      ] 82%\r",
      "Clustering[==================================>     ] 85%\r",
      "Clustering[===================================>    ] 87%\r",
      "Clustering[====================================>   ] 90%\r",
      "Clustering[=====================================>  ] 92%\r",
      "Clustering[======================================> ] 95%\r",
      "Clustering[=======================================>] 97%\r"
     ]
    }
   ],
   "source": [
    "with o3d.utility.VerbosityContextManager(\n",
    "    o3d.utility.VerbosityLevel.Debug) as cm:\n",
    "    labels = np.array(\n",
    "        final_pointcloud.cluster_dbscan(eps=0.05, min_points=4, print_progress=True))"
   ]
  },
  {
   "cell_type": "code",
   "execution_count": 5,
   "metadata": {},
   "outputs": [
    {
     "name": "stdout",
     "output_type": "stream",
     "text": [
      "point cloud has 293 clusters\n"
     ]
    }
   ],
   "source": [
    "max_label = labels.max()\n",
    "print(f\"point cloud has {max_label + 1} clusters\")\n",
    "colors = plt.get_cmap(\"tab20\")(labels / (max_label if max_label > 0 else 1))\n",
    "colors[labels < 0] = 0\n",
    "final_pointcloud.colors = o3d.utility.Vector3dVector(colors[:, :3])\n",
    "# o3d.visualization.draw_geometries([final_pointcloud], mesh_show_wireframe=True, point_show_normal=True)"
   ]
  },
  {
   "cell_type": "code",
   "execution_count": 6,
   "metadata": {},
   "outputs": [],
   "source": [
    "my_points = np.asarray(final_pointcloud.points).tolist()\n",
    "df = pd.DataFrame(list(zip(my_points, labels.tolist())), columns=['points', 'label'])\n",
    "\n",
    "new_df = df.groupby('label').agg(list).reset_index()[['label', 'points']]"
   ]
  },
  {
   "cell_type": "code",
   "execution_count": 7,
   "metadata": {},
   "outputs": [],
   "source": [
    "label_to_points = new_df.set_index('label').to_dict()['points']\n",
    "\n",
    "point_to_label = {}\n",
    "for k, v in label_to_points.items():\n",
    "    for aaa in v:\n",
    "        aaa = [round(i, 2) for i in aaa]\n",
    "        new_key = '_'.join(list(map(str, aaa)))\n",
    "        point_to_label[new_key] = k"
   ]
  },
  {
   "cell_type": "code",
   "execution_count": 8,
   "metadata": {},
   "outputs": [
    {
     "name": "stdout",
     "output_type": "stream",
     "text": [
      "(810851, 3)\n"
     ]
    }
   ],
   "source": [
    "point_to_search = '1.31_3.98_4.28'\n",
    "cluster_of_the_said_point = point_to_label[point_to_search]\n",
    "other_points_of_same_cluster = label_to_points[cluster_of_the_said_point]\n",
    "arr_2d = np.array(other_points_of_same_cluster)\n",
    "x_min = arr_2d[:,0].min()\n",
    "x_max = arr_2d[:,0].max()\n",
    "y_min = arr_2d[:,1].min()\n",
    "y_max = arr_2d[:,1].max()\n",
    "print(arr_2d.shape)"
   ]
  },
  {
   "cell_type": "code",
   "execution_count": 9,
   "metadata": {},
   "outputs": [],
   "source": [
    "points = np.array([\n",
    "[x_min, y_min, z_min],\n",
    "[x_min, y_min, z_max],\n",
    "[x_min, y_max, z_min],\n",
    "[x_min, y_max, z_max],\n",
    "[x_max, y_min, z_min],\n",
    "[x_max, y_min, z_max],\n",
    "[x_max, y_max, z_min],\n",
    "[x_max, y_max, z_max]\n",
    "])\n",
    "\n",
    "with open(\"output.txt\", \"w\") as txt_file:\n",
    "    for line in points:\n",
    "        lx = list(map(str, line.tolist()))\n",
    "        txt_file.write(\" \".join(lx) + \"\\n\") "
   ]
  },
  {
   "cell_type": "code",
   "execution_count": 10,
   "metadata": {},
   "outputs": [
    {
     "name": "stdout",
     "output_type": "stream",
     "text": [
      "\u001b[1;33m[Open3D WARNING] GLFW Error: Cocoa: Failed to find service port for display\u001b[0;m\n",
      "\u001b[1;33m[Open3D WARNING] GLFW Error: Cocoa: Failed to find service port for display\u001b[0;m\n"
     ]
    }
   ],
   "source": [
    "demo_pc = o3d.geometry.PointCloud()\n",
    "demo_pc.points = o3d.utility.Vector3dVector(np.array(other_points_of_same_cluster))\n",
    "o3d.visualization.draw_geometries([demo_pc])\n"
   ]
  }
 ],
 "metadata": {
  "kernelspec": {
   "display_name": "Python 3 (ipykernel)",
   "language": "python",
   "name": "python3"
  },
  "language_info": {
   "codemirror_mode": {
    "name": "ipython",
    "version": 3
   },
   "file_extension": ".py",
   "mimetype": "text/x-python",
   "name": "python",
   "nbconvert_exporter": "python",
   "pygments_lexer": "ipython3",
   "version": "3.9.12"
  }
 },
 "nbformat": 4,
 "nbformat_minor": 2
}
